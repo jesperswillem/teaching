{
 "cells": [
  {
   "cell_type": "code",
   "execution_count": 14,
   "id": "dfdd03cc-6411-4646-b50a-fd6246678a61",
   "metadata": {},
   "outputs": [],
   "source": [
    "from IPython.display import Image\n",
    "import numpy as np"
   ]
  },
  {
   "cell_type": "code",
   "execution_count": null,
   "id": "b6b1b8a8-ca08-43ac-b2bc-53fa34e86ced",
   "metadata": {},
   "outputs": [],
   "source": [
    "current_positions = [-2,2] #positions of the particles\n",
    "current_forces = [0,0] #starting forces on the particles\n",
    "velocities = [0,0]\n",
    "forces = [0,0]\n",
    "mass = [1,1]\n",
    "\n",
    "new_positions = [0,0]\n",
    "new_forces = [0,0]\n",
    "\n",
    "save_positions = []\n",
    "\n",
    "#iterations = 10000\n",
    "#timestep = 0.005\n",
    "# this works \n",
    "timestep = .001\n",
    "# this not\n",
    "timestep = 0.005\n",
    "\n",
    "iterations = int(1/timestep)*100\n",
    "\n",
    "for i in range(iterations):\n",
    "\n",
    "  #Save the current positions\n",
    "  save_positions.append(current_positions.copy())\n",
    "\n",
    "  #Update the positions\n",
    "  for j in range(len(current_positions)):\n",
    "    new_positions[j] = current_positions[j] + velocities[j]*timestep + (forces[j]/ (2*mass[j]) )*(timestep**2)\n",
    "\n",
    "\n",
    "  #Find the total force on each particle\n",
    "  for j in range(len(current_positions)):\n",
    "\n",
    "    new_forces[j]=0\n",
    "\n",
    "    for k in range(len(current_positions)):\n",
    "      if j==k:\n",
    "        continue\n",
    "\n",
    "      distance = current_positions[j]-current_positions[k]\n",
    "      sign = distance /abs(distance)\n",
    "\n",
    "      new_forces[j] = new_forces[j]+10*(abs(distance)-5) * -sign\n",
    "\n",
    "  #Update velocities\n",
    "  for j in range(len(current_positions)):\n",
    "    velocities[j] = velocities[j] + timestep*(forces[j] + new_forces[j])/(2*mass[j])\n",
    "\n",
    "  #Set the force as the new forces\n",
    "  for j in range(len(current_positions)):\n",
    "    forces[j] = new_forces[j]\n",
    "\n",
    "  #Set the new positions\n",
    "  for j in range(len(current_positions)):\n",
    "    current_positions[j]=new_positions[j]"
   ]
  },
  {
   "cell_type": "code",
   "execution_count": 36,
   "id": "1fa60863-a460-4e9a-ab08-7cfe124d5d31",
   "metadata": {},
   "outputs": [
    {
     "data": {
      "text/plain": [
       "[<matplotlib.lines.Line2D at 0x7f2f2f91f580>]"
      ]
     },
     "execution_count": 36,
     "metadata": {},
     "output_type": "execute_result"
    },
    {
     "data": {
      "image/png": "[encoded data removed]",
      "text/plain": [
       "<Figure size 432x288 with 1 Axes>"
      ]
     },
     "metadata": {
      "needs_background": "light"
     },
     "output_type": "display_data"
    }
   ],
   "source": [
    "np.array(save_positions)\n",
    "dist = np.diff(save_positions)\n",
    "plt.plot(dist) \n"
   ]
  },
  {
   "cell_type": "code",
   "execution_count": null,
   "id": "4c3419f6-8837-4264-8e0d-f7a1506c58b4",
   "metadata": {},
   "outputs": [],
   "source": [
    "#Plot the evolution of the particle position and create a gif\n",
    "\n",
    "from matplotlib import pyplot as plt\n",
    "from celluloid import Camera\n",
    "\n",
    "fig = plt.figure()\n",
    "plt.xlim([-4, 4])\n",
    "plt.ylim([-1,1])\n",
    "camera = Camera(fig)\n",
    "for i in range(len(save_positions)):    \n",
    "    plt.scatter(save_positions[i],[0]*len(current_positions), s=120, c=[1]*len(current_positions))\n",
    "    text = \"T = \" + str(round(timestep*i,2))\n",
    "    plt.text(1, 0.5, text, ha='left',wrap=False)\n",
    "    camera.snap()\n",
    "    \n",
    "animation = camera.animate()\n",
    "animation.save('spring_gif.gif', writer = 'pillow', fps=40)"
   ]
  },
  {
   "cell_type": "code",
   "execution_count": 6,
   "id": "07236e40-143a-4487-b27b-7cbd072d2961",
   "metadata": {},
   "outputs": [
    {
     "name": "stdout",
     "output_type": "stream",
     "text": [
      "63 630\n"
     ]
    },
    {
     "ename": "TypeError",
     "evalue": "only integer scalar arrays can be converted to a scalar index",
     "output_type": "error",
     "traceback": [
      "\u001b[0;31m---------------------------------------------------------------------------\u001b[0m",
      "\u001b[0;31mTypeError\u001b[0m                                 Traceback (most recent call last)",
      "Input \u001b[0;32mIn [6]\u001b[0m, in \u001b[0;36m<cell line: 29>\u001b[0;34m()\u001b[0m\n\u001b[1;32m     25\u001b[0m vi[\u001b[38;5;241m0\u001b[39m] \u001b[38;5;241m=\u001b[39m \u001b[38;5;241m0\u001b[39m\n\u001b[1;32m     27\u001b[0m \u001b[38;5;66;03m## Velocity Verlet\u001b[39;00m\n\u001b[0;32m---> 29\u001b[0m \u001b[38;5;28;01mfor\u001b[39;00m n \u001b[38;5;129;01min\u001b[39;00m \u001b[38;5;28;43mrange\u001b[39;49m\u001b[43m(\u001b[49m\u001b[43mt\u001b[49m\u001b[43m)\u001b[49m:\n\u001b[1;32m     30\u001b[0m     v_next \u001b[38;5;241m=\u001b[39m vi[n] \u001b[38;5;241m-\u001b[39m \u001b[38;5;241m0.5\u001b[39m\u001b[38;5;241m*\u001b[39momega\u001b[38;5;241m*\u001b[39m\u001b[38;5;241m*\u001b[39m\u001b[38;5;241m2\u001b[39m\u001b[38;5;241m*\u001b[39mu[n]\u001b[38;5;241m*\u001b[39mdt\n\u001b[1;32m     31\u001b[0m     u[n\u001b[38;5;241m+\u001b[39m\u001b[38;5;241m1\u001b[39m]\u001b[38;5;241m=\u001b[39m u[n]\u001b[38;5;241m+\u001b[39m dt\u001b[38;5;241m*\u001b[39mv_next\n",
      "\u001b[0;31mTypeError\u001b[0m: only integer scalar arrays can be converted to a scalar index"
     ]
    },
    {
     "data": {
      "text/plain": [
       "<Figure size 800x800 with 0 Axes>"
      ]
     },
     "metadata": {},
     "output_type": "display_data"
    }
   ],
   "source": [
    "from numpy import zeros, linspace, pi, cos, array\n",
    "import matplotlib.pyplot as plt\n",
    "import numpy as np\n",
    "\n",
    "from matplotlib.pyplot import figure\n",
    "\n",
    "figure(figsize=(10, 10), dpi=80)\n",
    "\n",
    "omega = .1\n",
    "N=5000\n",
    "dt=0.001\n",
    "\n",
    "simtime = 100\n",
    "\n",
    "# calculate periodicity\n",
    "T = round((2 * np.pi) / omega)\n",
    "N = T * 10\n",
    "t = linspace(0, N, 10)\n",
    "u = zeros(N+1)\n",
    "vi = zeros(N+1)\n",
    "\n",
    "X_0 = 2\n",
    "u[0] = X_0\n",
    "vi[0] = 0\n",
    "\n",
    "## Velocity Verlet\n",
    "\n",
    "for n in range(t):\n",
    "    v_next = vi[n] - 0.5*omega**2*u[n]*dt\n",
    "    u[n+1]= u[n]+ dt*v_next\n",
    "    vi[n+1] = v_next - 0.5*omega**2*u[n+1]*dt\n",
    "    #np.append(u, x_next)\n",
    "\n",
    "plt.plot(t, X_0*cos(omega*t), label = 'Analytical')\n",
    "plt.plot(t, u, 'r--', label = 'Verlet')\n",
    "plt.title('Verlet', fontweight = 'bold', fontsize = 1)\n",
    "plt.xlabel('t', fontweight = 'bold', fontsize = 14)\n",
    "plt.ylabel('X', fontweight = 'bold', fontsize = 14)\n",
    "plt.legend()\n",
    "plt.show()"
   ]
  },
  {
   "cell_type": "code",
   "execution_count": null,
   "id": "9176a16a-1ab0-4cdb-a4b0-54bff1ec4a68",
   "metadata": {},
   "outputs": [],
   "source": []
  }
 ],
 "metadata": {
  "kernelspec": {
   "display_name": "Python 3 (ipykernel)",
   "language": "python",
   "name": "python3"
  },
  "language_info": {
   "codemirror_mode": {
    "name": "ipython",
    "version": 3
   },
   "file_extension": ".py",
   "mimetype": "text/x-python",
   "name": "python",
   "nbconvert_exporter": "python",
   "pygments_lexer": "ipython3",
   "version": "3.10.4"
  }
 },
 "nbformat": 4,
 "nbformat_minor": 5
}

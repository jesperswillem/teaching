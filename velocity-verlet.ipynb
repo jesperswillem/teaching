{
 "cells": [
  {
   "cell_type": "code",
   "execution_count": 6,
   "id": "b6b1b8a8-ca08-43ac-b2bc-53fa34e86ced",
   "metadata": {},
   "outputs": [
    {
     "name": "stderr",
     "output_type": "stream",
     "text": [
      "/home/willem/miniconda3/envs/teaching/lib/python3.10/site-packages/matplotlib/animation.py:887: UserWarning: Animation was deleted without rendering anything. This is most likely not intended. To prevent deletion, assign the Animation to a variable, e.g. `anim`, that exists until you have outputted the Animation using `plt.show()` or `anim.save()`.\n",
      "  warnings.warn(\n"
     ]
    },
    {
     "data": {
      "image/png": "[encoded data removed]",
      "text/plain": [
       "<Figure size 432x288 with 1 Axes>"
      ]
     },
     "metadata": {
      "needs_background": "light"
     },
     "output_type": "display_data"
    }
   ],
   "source": [
    "current_positions = [-2,2] #positions of the particles\n",
    "current_forces = [0,0] #starting forces on the particles\n",
    "velocities = [0,0]\n",
    "forces = [0,0]\n",
    "mass = [1,1]\n",
    "\n",
    "new_positions = [0,0]\n",
    "new_forces = [0,0]\n",
    "\n",
    "save_positions = []\n",
    "\n",
    "iterations = 1000\n",
    "timestep = 0.005\n",
    "\n",
    "\n",
    "for i in range(iterations):\n",
    "\n",
    "  #Save the current positions\n",
    "  save_positions.append(current_positions.copy())\n",
    "\n",
    "  #Update the positions\n",
    "  for j in range(len(current_positions)):\n",
    "    new_positions[j] = current_positions[j] + velocities[j]*timestep + (forces[j]/ (2*mass[j]) )*(timestep**2)\n",
    "\n",
    "\n",
    "  #Find the total force on each particle\n",
    "  for j in range(len(current_positions)):\n",
    "\n",
    "    new_forces[j]=0\n",
    "\n",
    "    for k in range(len(current_positions)):\n",
    "      if j==k:\n",
    "        continue\n",
    "\n",
    "      distance = current_positions[j]-current_positions[k]\n",
    "      sign = distance /abs(distance)\n",
    "\n",
    "      new_forces[j] = new_forces[j]+10*(abs(distance)-5) * -sign\n",
    "\n",
    "  #Update velocities\n",
    "  for j in range(len(current_positions)):\n",
    "    velocities[j] = velocities[j] + timestep*(forces[j] + new_forces[j])/(2*mass[j])\n",
    "\n",
    "  #Set the force as the new forces\n",
    "  for j in range(len(current_positions)):\n",
    "    forces[j] = new_forces[j]\n",
    "\n",
    "  #Set the new positions\n",
    "  for j in range(len(current_positions)):\n",
    "    current_positions[j]=new_positions[j]\n",
    "\n",
    "\n",
    "#Plot the evolution of the particle position and create a gif\n",
    "\n",
    "from matplotlib import pyplot as plt\n",
    "from celluloid import Camera\n",
    "\n",
    "fig = plt.figure()\n",
    "plt.xlim([-4, 4])\n",
    "plt.ylim([-1,1])\n",
    "camera = Camera(fig)\n",
    "for i in range(len(save_positions)):    \n",
    "    plt.scatter(save_positions[i],[0]*len(current_positions), s=120, c=[1]*len(current_positions))\n",
    "    text = \"T = \" + str(round(timestep*i,2))\n",
    "    plt.text(1, 0.5, text, ha='left',wrap=False)\n",
    "    #camera.snap()\n",
    "    \n",
    "#animation = camera.animate()\n",
    "animation.save('spring_gif.gif', writer = 'pillow', fps=40)"
   ]
  },
  {
   "cell_type": "code",
   "execution_count": null,
   "id": "4bb254c7-395c-4677-acf3-8fc021c487a3",
   "metadata": {},
   "outputs": [],
   "source": []
  }
 ],
 "metadata": {
  "kernelspec": {
   "display_name": "Python 3 (ipykernel)",
   "language": "python",
   "name": "python3"
  },
  "language_info": {
   "codemirror_mode": {
    "name": "ipython",
    "version": 3
   },
   "file_extension": ".py",
   "mimetype": "text/x-python",
   "name": "python",
   "nbconvert_exporter": "python",
   "pygments_lexer": "ipython3",
   "version": "3.10.4"
  }
 },
 "nbformat": 4,
 "nbformat_minor": 5
}

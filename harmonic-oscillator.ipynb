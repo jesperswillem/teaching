{
 "cells": [
  {
   "cell_type": "code",
   "execution_count": 25,
   "id": "a81059f4-91aa-4501-8bb8-4dde695ed7cd",
   "metadata": {},
   "outputs": [
    {
     "data": {
      "image/png": "[encoded data removed]",
      "text/plain": [
       "<Figure size 432x288 with 1 Axes>"
      ]
     },
     "metadata": {
      "needs_background": "light"
     },
     "output_type": "display_data"
    }
   ],
   "source": [
    "import matplotlib.pyplot as plt\n",
    "import numpy as np\n",
    "\n",
    "# 100 linearly spaced numbers\n",
    "r = np.linspace(0.5,1.8,100)\n",
    "\n",
    "def HarmonicOscillator(r, Kb, r0):\n",
    "# harmonic oscillator\n",
    "    Upot = 0.5 * Kb * (r - r0)**2\n",
    "    return Upot\n",
    "\n",
    "def HarmonicOscillatorFEP(r, Kb_i, r0_i, Kb_j, r0_j, l):\n",
    "    Upot = (1-l) * HarmonicOscillator(r, Kb_i, r0_i) + l * HarmonicOscillator(r, Kb_j, r0_j)\n",
    "    return Upot\n",
    "\n",
    "# setting the axes at the centre\n",
    "fig = plt.figure()\n",
    "ax = fig.add_subplot(1, 1, 1)\n",
    "ax.set_ylim([0, 50])\n",
    "ax.set_xlabel('distance (Å)')\n",
    "ax.set_ylabel('Upot (kcal/mol)')\n",
    "\n",
    "# plot the function\n",
    "# H270   O268    1106.000     0.945  \n",
    "Kb_i = 1106.0 # in kcal/mol\n",
    "r0_i = 0.945  # in Å\n",
    "plt.plot(r,HarmonicOscillator(r, Kb_i, r0_i), 'r')\n",
    "\n",
    "# C267   O268     900.000     1.364  \n",
    "#Kb_j = 900.0 # in kcal/mol\n",
    "#r0_j = 1.364  # in Å\n",
    "#plt.plot(r,HarmonicOscillator(r, Kb_j, r0_j), 'b')\n",
    "\n",
    "#for l in np.linspace(0.1,0.9,9):\n",
    "#    plt.plot(r,HarmonicOscillatorFEP(r, Kb_i, r0_i,Kb_j, r0_j,l), '0.8')\n",
    "\n",
    "# show the plot\n",
    "plt.show()"
   ]
  },
  {
   "cell_type": "code",
   "execution_count": null,
   "id": "95fbd88d-2fe8-408e-9b51-7611cfc67c7e",
   "metadata": {},
   "outputs": [],
   "source": []
  }
 ],
 "metadata": {
  "kernelspec": {
   "display_name": "Python 3 (ipykernel)",
   "language": "python",
   "name": "python3"
  },
  "language_info": {
   "codemirror_mode": {
    "name": "ipython",
    "version": 3
   },
   "file_extension": ".py",
   "mimetype": "text/x-python",
   "name": "python",
   "nbconvert_exporter": "python",
   "pygments_lexer": "ipython3",
   "version": "3.10.4"
  }
 },
 "nbformat": 4,
 "nbformat_minor": 5
}
